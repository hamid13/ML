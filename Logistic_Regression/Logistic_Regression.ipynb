{
 "cells": [
  {
   "cell_type": "code",
   "execution_count": null,
   "outputs": [],
   "source": [
    "import pandas as pd\n",
    "import numpy as np\n",
    "from sklearn import preprocessing\n",
    "import matplotlib.pyplot as plt\n",
    "plt.rc(\"font\", size=14)\n",
    "from sklearn.linear_model import LogisticRegression\n",
    "from sklearn.model_selection import train_test_split\n",
    "import seaborn as sns\n",
    "sns.set(style=\"white\")\n",
    "sns.set(style=\"whitegrid\", color_codes=True)"
   ],
   "metadata": {
    "collapsed": false,
    "pycharm": {
     "name": "#%%\n"
    }
   }
  },
  {
   "cell_type": "code",
   "execution_count": 8,
   "outputs": [
    {
     "name": "stdout",
     "output_type": "stream",
     "text": [
      "(41188, 21)\n",
      "['age', 'job', 'marital', 'education', 'default', 'housing', 'loan', 'contact', 'month', 'day_of_week', 'duration', 'campaign', 'pdays', 'previous', 'poutcome', 'emp_var_rate', 'cons_price_idx', 'cons_conf_idx', 'euribor3m', 'nr_employed', 'y']\n"
     ]
    }
   ],
   "source": [
    "# Read Data\n",
    "data = pd.read_csv(\"../Data/Banking.csv\")\n",
    "data = data.dropna()\n",
    "print(data.shape)\n",
    "print(list(data.columns))"
   ],
   "metadata": {
    "collapsed": false,
    "pycharm": {
     "name": "#%%\n"
    }
   }
  },
  {
   "cell_type": "code",
   "execution_count": 1,
   "outputs": [
    {
     "ename": "NameError",
     "evalue": "name 'data' is not defined",
     "output_type": "error",
     "traceback": [
      "\u001B[0;31m---------------------------------------------------------------------------\u001B[0m",
      "\u001B[0;31mNameError\u001B[0m                                 Traceback (most recent call last)",
      "Input \u001B[0;32mIn [1]\u001B[0m, in \u001B[0;36m<module>\u001B[0;34m\u001B[0m\n\u001B[0;32m----> 1\u001B[0m \u001B[43mdata\u001B[49m\u001B[38;5;241m.\u001B[39mhead(\u001B[38;5;241m5\u001B[39m)\n",
      "\u001B[0;31mNameError\u001B[0m: name 'data' is not defined"
     ]
    }
   ],
   "source": [
    "data.head(5)   # Return 5 first rwo of the data object"
   ],
   "metadata": {
    "collapsed": false,
    "pycharm": {
     "name": "#%%\n"
    }
   }
  },
  {
   "cell_type": "code",
   "execution_count": 12,
   "outputs": [
    {
     "data": {
      "text/plain": "array(['basic.4y', 'unknown', 'university.degree', 'high.school',\n       'basic.9y', 'professional.course', 'basic.6y', 'illiterate'],\n      dtype=object)"
     },
     "execution_count": 12,
     "metadata": {},
     "output_type": "execute_result"
    }
   ],
   "source": [
    "data['education'].unique()"
   ],
   "metadata": {
    "collapsed": false,
    "pycharm": {
     "name": "#%%\n"
    }
   }
  },
  {
   "cell_type": "code",
   "execution_count": 13,
   "outputs": [],
   "source": [
    "# Let us group “basic.4y”, “basic.9y” and “basic.6y” together and call them “basic”.\n",
    "data['education']=np.where(data['education'] =='basic.9y', 'Basic', data['education'])\n",
    "data['education']=np.where(data['education'] =='basic.6y', 'Basic', data['education'])\n",
    "data['education']=np.where(data['education'] =='basic.4y', 'Basic', data['education'])"
   ],
   "metadata": {
    "collapsed": false,
    "pycharm": {
     "name": "#%%\n"
    }
   }
  },
  {
   "cell_type": "code",
   "execution_count": 14,
   "outputs": [
    {
     "data": {
      "text/plain": "array(['Basic', 'unknown', 'university.degree', 'high.school',\n       'professional.course', 'illiterate'], dtype=object)"
     },
     "execution_count": 14,
     "metadata": {},
     "output_type": "execute_result"
    }
   ],
   "source": [
    "data['education'].unique()"
   ],
   "metadata": {
    "collapsed": false,
    "pycharm": {
     "name": "#%%\n"
    }
   }
  },
  {
   "cell_type": "code",
   "execution_count": 15,
   "outputs": [
    {
     "data": {
      "text/plain": "0    36548\n1     4640\nName: y, dtype: int64"
     },
     "execution_count": 15,
     "metadata": {},
     "output_type": "execute_result"
    }
   ],
   "source": [
    "data['y'].value_counts()"
   ],
   "metadata": {
    "collapsed": false,
    "pycharm": {
     "name": "#%%\n"
    }
   }
  },
  {
   "cell_type": "code",
   "execution_count": 22,
   "outputs": [
    {
     "data": {
      "text/plain": "<Figure size 432x288 with 1 Axes>",
      "image/png": "[encoded data removed]"
     },
     "metadata": {},
     "output_type": "display_data"
    },
    {
     "data": {
      "text/plain": "<Figure size 432x288 with 0 Axes>"
     },
     "metadata": {},
     "output_type": "display_data"
    }
   ],
   "source": [
    "sns.countplot(x='y' , data = data , palette='hls')\n",
    "plt.show()\n",
    "plt.savefig('count_plot')"
   ],
   "metadata": {
    "collapsed": false,
    "pycharm": {
     "name": "#%%\n"
    }
   }
  },
  {
   "cell_type": "code",
   "execution_count": 23,
   "outputs": [
    {
     "name": "stdout",
     "output_type": "stream",
     "text": [
      "percentage of no subscription is 88.73458288821988\n",
      "percentage of subscription 11.265417111780131\n"
     ]
    }
   ],
   "source": [
    "count_no_sub = len(data[data['y']==0])\n",
    "count_sub = len(data[data['y']==1])\n",
    "pct_of_no_sub = count_no_sub/(count_no_sub+count_sub)\n",
    "print(\"percentage of no subscription is\", pct_of_no_sub*100)\n",
    "pct_of_sub = count_sub/(count_no_sub+count_sub)\n",
    "print(\"percentage of subscription\", pct_of_sub*100)"
   ],
   "metadata": {
    "collapsed": false,
    "pycharm": {
     "name": "#%%\n"
    }
   }
  },
  {
   "cell_type": "code",
   "execution_count": 24,
   "outputs": [
    {
     "data": {
      "text/plain": "         age    duration  campaign       pdays  previous  emp_var_rate  \\\ny                                                                        \n0  39.911185  220.844807  2.633085  984.113878  0.132374      0.248875   \n1  40.913147  553.191164  2.051724  792.035560  0.492672     -1.233448   \n\n   cons_price_idx  cons_conf_idx  euribor3m  nr_employed  \ny                                                         \n0       93.603757     -40.593097   3.811491  5176.166600  \n1       93.354386     -39.789784   2.123135  5095.115991  ",
      "text/html": "<div>\n<style scoped>\n    .dataframe tbody tr th:only-of-type {\n        vertical-align: middle;\n    }\n\n    .dataframe tbody tr th {\n        vertical-align: top;\n    }\n\n    .dataframe thead th {\n        text-align: right;\n    }\n</style>\n<table border=\"1\" class=\"dataframe\">\n  <thead>\n    <tr style=\"text-align: right;\">\n      <th></th>\n      <th>age</th>\n      <th>duration</th>\n      <th>campaign</th>\n      <th>pdays</th>\n      <th>previous</th>\n      <th>emp_var_rate</th>\n      <th>cons_price_idx</th>\n      <th>cons_conf_idx</th>\n      <th>euribor3m</th>\n      <th>nr_employed</th>\n    </tr>\n    <tr>\n      <th>y</th>\n      <th></th>\n      <th></th>\n      <th></th>\n      <th></th>\n      <th></th>\n      <th></th>\n      <th></th>\n      <th></th>\n      <th></th>\n      <th></th>\n    </tr>\n  </thead>\n  <tbody>\n    <tr>\n      <th>0</th>\n      <td>39.911185</td>\n      <td>220.844807</td>\n      <td>2.633085</td>\n      <td>984.113878</td>\n      <td>0.132374</td>\n      <td>0.248875</td>\n      <td>93.603757</td>\n      <td>-40.593097</td>\n      <td>3.811491</td>\n      <td>5176.166600</td>\n    </tr>\n    <tr>\n      <th>1</th>\n      <td>40.913147</td>\n      <td>553.191164</td>\n      <td>2.051724</td>\n      <td>792.035560</td>\n      <td>0.492672</td>\n      <td>-1.233448</td>\n      <td>93.354386</td>\n      <td>-39.789784</td>\n      <td>2.123135</td>\n      <td>5095.115991</td>\n    </tr>\n  </tbody>\n</table>\n</div>"
     },
     "execution_count": 24,
     "metadata": {},
     "output_type": "execute_result"
    }
   ],
   "source": [
    "# The average age of customers who bought the term deposit is higher than that of the customers who didn’t.\n",
    "# Surprisingly, campaigns (number of contacts or calls made during the current campaign) are lower for customers who bought the term deposit.\n",
    "data.groupby('y').mean()"
   ],
   "metadata": {
    "collapsed": false,
    "pycharm": {
     "name": "#%%\n"
    }
   }
  },
  {
   "cell_type": "code",
   "execution_count": 25,
   "outputs": [],
   "source": [],
   "metadata": {
    "collapsed": false,
    "pycharm": {
     "name": "#%%\n"
    }
   }
  },
  {
   "cell_type": "code",
   "execution_count": 26,
   "outputs": [
    {
     "data": {
      "text/plain": "                     age    duration  campaign       pdays  previous  \\\njob                                                                    \nadmin.         38.187296  254.312128  2.623489  954.319229  0.189023   \nblue-collar    39.555760  264.542360  2.558461  985.160363  0.122542   \nentrepreneur   41.723214  263.267857  2.535714  981.267170  0.138736   \nhousemaid      45.500000  250.454717  2.639623  960.579245  0.137736   \nmanagement     42.362859  257.058140  2.476060  962.647059  0.185021   \nretired        62.027326  273.712209  2.476744  897.936047  0.327326   \nself-employed  39.949331  264.142153  2.660802  976.621393  0.143561   \nservices       37.926430  258.398085  2.587805  979.974049  0.154951   \nstudent        25.894857  283.683429  2.104000  840.217143  0.524571   \ntechnician     38.507638  250.232241  2.577339  964.408127  0.153789   \nunemployed     39.733728  249.451677  2.564103  935.316568  0.199211   \nunknown        45.563636  239.675758  2.648485  938.727273  0.154545   \n\n               emp_var_rate  cons_price_idx  cons_conf_idx  euribor3m  \\\njob                                                                     \nadmin.             0.015563       93.534054     -40.245433   3.550274   \nblue-collar        0.248995       93.656656     -41.375816   3.771996   \nentrepreneur       0.158723       93.605372     -41.283654   3.791120   \nhousemaid          0.433396       93.676576     -39.495283   4.009645   \nmanagement        -0.012688       93.522755     -40.489466   3.611316   \nretired           -0.698314       93.430786     -38.573081   2.770066   \nself-employed      0.094159       93.559982     -40.488107   3.689376   \nservices           0.175359       93.634659     -41.290048   3.699187   \nstudent           -1.408000       93.331613     -40.187543   1.884224   \ntechnician         0.274566       93.561471     -39.927569   3.820401   \nunemployed        -0.111736       93.563781     -40.007594   3.466583   \nunknown            0.357879       93.718942     -38.797879   3.949033   \n\n               nr_employed         y  \njob                                   \nadmin.         5164.125350  0.129726  \nblue-collar    5175.615150  0.068943  \nentrepreneur   5176.313530  0.085165  \nhousemaid      5179.529623  0.100000  \nmanagement     5166.650513  0.112175  \nretired        5122.262151  0.252326  \nself-employed  5170.674384  0.104856  \nservices       5171.600126  0.081381  \nstudent        5085.939086  0.314286  \ntechnician     5175.648391  0.108260  \nunemployed     5157.156509  0.142012  \nunknown        5172.931818  0.112121  ",
      "text/html": "<div>\n<style scoped>\n    .dataframe tbody tr th:only-of-type {\n        vertical-align: middle;\n    }\n\n    .dataframe tbody tr th {\n        vertical-align: top;\n    }\n\n    .dataframe thead th {\n        text-align: right;\n    }\n</style>\n<table border=\"1\" class=\"dataframe\">\n  <thead>\n    <tr style=\"text-align: right;\">\n      <th></th>\n      <th>age</th>\n      <th>duration</th>\n      <th>campaign</th>\n      <th>pdays</th>\n      <th>previous</th>\n      <th>emp_var_rate</th>\n      <th>cons_price_idx</th>\n      <th>cons_conf_idx</th>\n      <th>euribor3m</th>\n      <th>nr_employed</th>\n      <th>y</th>\n    </tr>\n    <tr>\n      <th>job</th>\n      <th></th>\n      <th></th>\n      <th></th>\n      <th></th>\n      <th></th>\n      <th></th>\n      <th></th>\n      <th></th>\n      <th></th>\n      <th></th>\n      <th></th>\n    </tr>\n  </thead>\n  <tbody>\n    <tr>\n      <th>admin.</th>\n      <td>38.187296</td>\n      <td>254.312128</td>\n      <td>2.623489</td>\n      <td>954.319229</td>\n      <td>0.189023</td>\n      <td>0.015563</td>\n      <td>93.534054</td>\n      <td>-40.245433</td>\n      <td>3.550274</td>\n      <td>5164.125350</td>\n      <td>0.129726</td>\n    </tr>\n    <tr>\n      <th>blue-collar</th>\n      <td>39.555760</td>\n      <td>264.542360</td>\n      <td>2.558461</td>\n      <td>985.160363</td>\n      <td>0.122542</td>\n      <td>0.248995</td>\n      <td>93.656656</td>\n      <td>-41.375816</td>\n      <td>3.771996</td>\n      <td>5175.615150</td>\n      <td>0.068943</td>\n    </tr>\n    <tr>\n      <th>entrepreneur</th>\n      <td>41.723214</td>\n      <td>263.267857</td>\n      <td>2.535714</td>\n      <td>981.267170</td>\n      <td>0.138736</td>\n      <td>0.158723</td>\n      <td>93.605372</td>\n      <td>-41.283654</td>\n      <td>3.791120</td>\n      <td>5176.313530</td>\n      <td>0.085165</td>\n    </tr>\n    <tr>\n      <th>housemaid</th>\n      <td>45.500000</td>\n      <td>250.454717</td>\n      <td>2.639623</td>\n      <td>960.579245</td>\n      <td>0.137736</td>\n      <td>0.433396</td>\n      <td>93.676576</td>\n      <td>-39.495283</td>\n      <td>4.009645</td>\n      <td>5179.529623</td>\n      <td>0.100000</td>\n    </tr>\n    <tr>\n      <th>management</th>\n      <td>42.362859</td>\n      <td>257.058140</td>\n      <td>2.476060</td>\n      <td>962.647059</td>\n      <td>0.185021</td>\n      <td>-0.012688</td>\n      <td>93.522755</td>\n      <td>-40.489466</td>\n      <td>3.611316</td>\n      <td>5166.650513</td>\n      <td>0.112175</td>\n    </tr>\n    <tr>\n      <th>retired</th>\n      <td>62.027326</td>\n      <td>273.712209</td>\n      <td>2.476744</td>\n      <td>897.936047</td>\n      <td>0.327326</td>\n      <td>-0.698314</td>\n      <td>93.430786</td>\n      <td>-38.573081</td>\n      <td>2.770066</td>\n      <td>5122.262151</td>\n      <td>0.252326</td>\n    </tr>\n    <tr>\n      <th>self-employed</th>\n      <td>39.949331</td>\n      <td>264.142153</td>\n      <td>2.660802</td>\n      <td>976.621393</td>\n      <td>0.143561</td>\n      <td>0.094159</td>\n      <td>93.559982</td>\n      <td>-40.488107</td>\n      <td>3.689376</td>\n      <td>5170.674384</td>\n      <td>0.104856</td>\n    </tr>\n    <tr>\n      <th>services</th>\n      <td>37.926430</td>\n      <td>258.398085</td>\n      <td>2.587805</td>\n      <td>979.974049</td>\n      <td>0.154951</td>\n      <td>0.175359</td>\n      <td>93.634659</td>\n      <td>-41.290048</td>\n      <td>3.699187</td>\n      <td>5171.600126</td>\n      <td>0.081381</td>\n    </tr>\n    <tr>\n      <th>student</th>\n      <td>25.894857</td>\n      <td>283.683429</td>\n      <td>2.104000</td>\n      <td>840.217143</td>\n      <td>0.524571</td>\n      <td>-1.408000</td>\n      <td>93.331613</td>\n      <td>-40.187543</td>\n      <td>1.884224</td>\n      <td>5085.939086</td>\n      <td>0.314286</td>\n    </tr>\n    <tr>\n      <th>technician</th>\n      <td>38.507638</td>\n      <td>250.232241</td>\n      <td>2.577339</td>\n      <td>964.408127</td>\n      <td>0.153789</td>\n      <td>0.274566</td>\n      <td>93.561471</td>\n      <td>-39.927569</td>\n      <td>3.820401</td>\n      <td>5175.648391</td>\n      <td>0.108260</td>\n    </tr>\n    <tr>\n      <th>unemployed</th>\n      <td>39.733728</td>\n      <td>249.451677</td>\n      <td>2.564103</td>\n      <td>935.316568</td>\n      <td>0.199211</td>\n      <td>-0.111736</td>\n      <td>93.563781</td>\n      <td>-40.007594</td>\n      <td>3.466583</td>\n      <td>5157.156509</td>\n      <td>0.142012</td>\n    </tr>\n    <tr>\n      <th>unknown</th>\n      <td>45.563636</td>\n      <td>239.675758</td>\n      <td>2.648485</td>\n      <td>938.727273</td>\n      <td>0.154545</td>\n      <td>0.357879</td>\n      <td>93.718942</td>\n      <td>-38.797879</td>\n      <td>3.949033</td>\n      <td>5172.931818</td>\n      <td>0.112121</td>\n    </tr>\n  </tbody>\n</table>\n</div>"
     },
     "execution_count": 26,
     "metadata": {},
     "output_type": "execute_result"
    }
   ],
   "source": [
    "# We can calculate categorical means for other categorical variables such as education and marital status to get a more detailed sense of our data\n",
    "data.groupby('job').mean()"
   ],
   "metadata": {
    "collapsed": false,
    "pycharm": {
     "name": "#%%\n"
    }
   }
  },
  {
   "cell_type": "code",
   "execution_count": 27,
   "outputs": [
    {
     "data": {
      "text/plain": "                           age    duration  campaign       pdays  previous  \\\neducation                                                                    \nBasic                42.163910  263.043874  2.559498  974.877967  0.141053   \nhigh.school          37.998213  260.886810  2.568576  964.358382  0.185917   \nilliterate           48.500000  276.777778  2.277778  943.833333  0.111111   \nprofessional.course  40.080107  252.533855  2.586115  960.765974  0.163075   \nuniversity.degree    38.879191  253.223373  2.563527  951.807692  0.192390   \nunknown              43.481225  262.390526  2.596187  942.830734  0.226459   \n\n                     emp_var_rate  cons_price_idx  cons_conf_idx  euribor3m  \\\neducation                                                                     \nBasic                    0.191329       93.639933     -40.927595   3.729654   \nhigh.school              0.032937       93.584857     -40.940641   3.556157   \nilliterate              -0.133333       93.317333     -39.950000   3.516556   \nprofessional.course      0.173012       93.569864     -40.124108   3.710457   \nuniversity.degree       -0.028090       93.493466     -39.975805   3.529663   \nunknown                  0.059099       93.658615     -39.877816   3.571098   \n\n                     nr_employed         y  \neducation                                   \nBasic                5172.014113  0.087029  \nhigh.school          5164.994735  0.108355  \nilliterate           5171.777778  0.222222  \nprofessional.course  5170.155979  0.113485  \nuniversity.degree    5163.226298  0.137245  \nunknown              5159.549509  0.145003  ",
      "text/html": "<div>\n<style scoped>\n    .dataframe tbody tr th:only-of-type {\n        vertical-align: middle;\n    }\n\n    .dataframe tbody tr th {\n        vertical-align: top;\n    }\n\n    .dataframe thead th {\n        text-align: right;\n    }\n</style>\n<table border=\"1\" class=\"dataframe\">\n  <thead>\n    <tr style=\"text-align: right;\">\n      <th></th>\n      <th>age</th>\n      <th>duration</th>\n      <th>campaign</th>\n      <th>pdays</th>\n      <th>previous</th>\n      <th>emp_var_rate</th>\n      <th>cons_price_idx</th>\n      <th>cons_conf_idx</th>\n      <th>euribor3m</th>\n      <th>nr_employed</th>\n      <th>y</th>\n    </tr>\n    <tr>\n      <th>education</th>\n      <th></th>\n      <th></th>\n      <th></th>\n      <th></th>\n      <th></th>\n      <th></th>\n      <th></th>\n      <th></th>\n      <th></th>\n      <th></th>\n      <th></th>\n    </tr>\n  </thead>\n  <tbody>\n    <tr>\n      <th>Basic</th>\n      <td>42.163910</td>\n      <td>263.043874</td>\n      <td>2.559498</td>\n      <td>974.877967</td>\n      <td>0.141053</td>\n      <td>0.191329</td>\n      <td>93.639933</td>\n      <td>-40.927595</td>\n      <td>3.729654</td>\n      <td>5172.014113</td>\n      <td>0.087029</td>\n    </tr>\n    <tr>\n      <th>high.school</th>\n      <td>37.998213</td>\n      <td>260.886810</td>\n      <td>2.568576</td>\n      <td>964.358382</td>\n      <td>0.185917</td>\n      <td>0.032937</td>\n      <td>93.584857</td>\n      <td>-40.940641</td>\n      <td>3.556157</td>\n      <td>5164.994735</td>\n      <td>0.108355</td>\n    </tr>\n    <tr>\n      <th>illiterate</th>\n      <td>48.500000</td>\n      <td>276.777778</td>\n      <td>2.277778</td>\n      <td>943.833333</td>\n      <td>0.111111</td>\n      <td>-0.133333</td>\n      <td>93.317333</td>\n      <td>-39.950000</td>\n      <td>3.516556</td>\n      <td>5171.777778</td>\n      <td>0.222222</td>\n    </tr>\n    <tr>\n      <th>professional.course</th>\n      <td>40.080107</td>\n      <td>252.533855</td>\n      <td>2.586115</td>\n      <td>960.765974</td>\n      <td>0.163075</td>\n      <td>0.173012</td>\n      <td>93.569864</td>\n      <td>-40.124108</td>\n      <td>3.710457</td>\n      <td>5170.155979</td>\n      <td>0.113485</td>\n    </tr>\n    <tr>\n      <th>university.degree</th>\n      <td>38.879191</td>\n      <td>253.223373</td>\n      <td>2.563527</td>\n      <td>951.807692</td>\n      <td>0.192390</td>\n      <td>-0.028090</td>\n      <td>93.493466</td>\n      <td>-39.975805</td>\n      <td>3.529663</td>\n      <td>5163.226298</td>\n      <td>0.137245</td>\n    </tr>\n    <tr>\n      <th>unknown</th>\n      <td>43.481225</td>\n      <td>262.390526</td>\n      <td>2.596187</td>\n      <td>942.830734</td>\n      <td>0.226459</td>\n      <td>0.059099</td>\n      <td>93.658615</td>\n      <td>-39.877816</td>\n      <td>3.571098</td>\n      <td>5159.549509</td>\n      <td>0.145003</td>\n    </tr>\n  </tbody>\n</table>\n</div>"
     },
     "execution_count": 27,
     "metadata": {},
     "output_type": "execute_result"
    }
   ],
   "source": [
    "data.groupby('education').mean()"
   ],
   "metadata": {
    "collapsed": false,
    "pycharm": {
     "name": "#%%\n"
    }
   }
  },
  {
   "cell_type": "code",
   "execution_count": 30,
   "outputs": [
    {
     "data": {
      "text/plain": "<Figure size 432x288 with 1 Axes>",
      "image/png": "[encoded data removed]"
     },
     "metadata": {
      "needs_background": "light"
     },
     "output_type": "display_data"
    }
   ],
   "source": [
    "# Visualizations\n",
    "%matplotlib inline\n",
    "pd.crosstab(data.job,data.y).plot(kind='bar')\n",
    "plt.title('Purchase Frequency for Job Title')\n",
    "plt.xlabel('Job')\n",
    "plt.ylabel('Frequency of Purchase')\n",
    "plt.savefig('purchase_fre_job')"
   ],
   "metadata": {
    "collapsed": false,
    "pycharm": {
     "name": "#%%\n"
    }
   }
  },
  {
   "cell_type": "code",
   "execution_count": null,
   "outputs": [],
   "source": [],
   "metadata": {
    "collapsed": false,
    "pycharm": {
     "name": "#%%\n"
    }
   }
  }
 ],
 "metadata": {
  "kernelspec": {
   "display_name": "Python 3",
   "language": "python",
   "name": "python3"
  },
  "language_info": {
   "codemirror_mode": {
    "name": "ipython",
    "version": 2
   },
   "file_extension": ".py",
   "mimetype": "text/x-python",
   "name": "python",
   "nbconvert_exporter": "python",
   "pygments_lexer": "ipython2",
   "version": "2.7.6"
  }
 },
 "nbformat": 4,
 "nbformat_minor": 0
}